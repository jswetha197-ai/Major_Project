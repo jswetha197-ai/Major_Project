{
  "cells": [
    {
      "cell_type": "code",
      "source": [
        "!pip install flask pyngrok nltk\n",
        "from flask import Flask, request, render_template_string, session\n",
        "from pyngrok import ngrok\n",
        "import nltk\n",
        "nltk.download('punkt')"
      ],
      "metadata": {
        "colab": {
          "base_uri": "https://localhost:8080/"
        },
        "id": "Hj4JZr3XapNC",
        "outputId": "75445545-680d-4546-ac92-15929c798e8b"
      },
      "execution_count": 1,
      "outputs": [
        {
          "output_type": "stream",
          "name": "stdout",
          "text": [
            "Requirement already satisfied: flask in /usr/local/lib/python3.12/dist-packages (3.1.2)\n",
            "Requirement already satisfied: pyngrok in /usr/local/lib/python3.12/dist-packages (7.4.1)\n",
            "Requirement already satisfied: nltk in /usr/local/lib/python3.12/dist-packages (3.9.1)\n",
            "Requirement already satisfied: blinker>=1.9.0 in /usr/local/lib/python3.12/dist-packages (from flask) (1.9.0)\n",
            "Requirement already satisfied: click>=8.1.3 in /usr/local/lib/python3.12/dist-packages (from flask) (8.3.0)\n",
            "Requirement already satisfied: itsdangerous>=2.2.0 in /usr/local/lib/python3.12/dist-packages (from flask) (2.2.0)\n",
            "Requirement already satisfied: jinja2>=3.1.2 in /usr/local/lib/python3.12/dist-packages (from flask) (3.1.6)\n",
            "Requirement already satisfied: markupsafe>=2.1.1 in /usr/local/lib/python3.12/dist-packages (from flask) (3.0.3)\n",
            "Requirement already satisfied: werkzeug>=3.1.0 in /usr/local/lib/python3.12/dist-packages (from flask) (3.1.3)\n",
            "Requirement already satisfied: PyYAML>=5.1 in /usr/local/lib/python3.12/dist-packages (from pyngrok) (6.0.3)\n",
            "Requirement already satisfied: joblib in /usr/local/lib/python3.12/dist-packages (from nltk) (1.5.2)\n",
            "Requirement already satisfied: regex>=2021.8.3 in /usr/local/lib/python3.12/dist-packages (from nltk) (2024.11.6)\n",
            "Requirement already satisfied: tqdm in /usr/local/lib/python3.12/dist-packages (from nltk) (4.67.1)\n"
          ]
        },
        {
          "output_type": "stream",
          "name": "stderr",
          "text": [
            "[nltk_data] Downloading package punkt to /root/nltk_data...\n",
            "[nltk_data]   Package punkt is already up-to-date!\n"
          ]
        },
        {
          "output_type": "execute_result",
          "data": {
            "text/plain": [
              "True"
            ]
          },
          "metadata": {},
          "execution_count": 1
        }
      ]
    },
    {
      "cell_type": "code",
      "source": [
        "app = Flask(__name__)\n",
        "app.secret_key = \"study-pal-secret\""
      ],
      "metadata": {
        "id": "V_PfOwc3XYx4"
      },
      "execution_count": 2,
      "outputs": []
    },
    {
      "cell_type": "code",
      "source": [
        "quiz_data = {\n",
        "    \"Math\": {\n",
        "        \"Easy\": [\n",
        "            {\"question\": \"What is the perimeter of a square with side 5 cm?\",\n",
        "             \"options\": [\"10 cm\", \"15 cm\", \"20 cm\", \"25 cm\"], \"answer\": \"20 cm\"},\n",
        "            {\"question\": \"If x = 2, what is the value of 3x + 4?\",\n",
        "             \"options\": [\"10\", \"12\", \"14\", \"8\"], \"answer\": \"10\"},\n",
        "            {\"question\": \"Convert 500 cm to meters.\",\n",
        "             \"options\": [\"5 m\", \"50 m\", \"0.5 m\", \"0.05 m\"], \"answer\": \"5 m\"},\n",
        "        ],\n",
        "        \"Moderate\": [\n",
        "            {\"question\": \"12 × 8 = ?\", \"options\": [\"96\", \"98\", \"108\"], \"answer\": \"96\"},\n",
        "            {\"question\": \"Square root of 81?\", \"options\": [\"9\", \"8\", \"7\"], \"answer\": \"9\"},\n",
        "        ],\n",
        "        \"Hard\": [\n",
        "            {\"question\": \"Solve 2x + 5 = 15\", \"options\": [\"x = 5\", \"x = 10\", \"x = 8\"], \"answer\": \"x = 5\"},\n",
        "            {\"question\": \"Approximate value of π?\", \"options\": [\"3.12\", \"3.14\", \"3.18\"], \"answer\": \"3.14\"},\n",
        "        ],\n",
        "    },\n",
        "    \"Science\": {\n",
        "        \"Easy\": [\n",
        "            {\"question\": \"Water freezes at what temperature (°C)?\", \"options\": [\"0\", \"10\", \"100\"], \"answer\": \"0\"},\n",
        "            {\"question\": \"The Sun is a ___\", \"options\": [\"Star\", \"Planet\", \"Asteroid\"], \"answer\": \"Star\"},\n",
        "        ],\n",
        "        \"Moderate\": [\n",
        "            {\"question\": \"Who discovered gravity?\", \"options\": [\"Newton\", \"Einstein\", \"Tesla\"], \"answer\": \"Newton\"},\n",
        "            {\"question\": \"Which planet has rings?\", \"options\": [\"Earth\", \"Mars\", \"Saturn\"], \"answer\": \"Saturn\"},\n",
        "        ],\n",
        "        \"Hard\": [\n",
        "            {\"question\": \"H₂O₂ is known as?\", \"options\": [\"Hydrogen Peroxide\", \"Hydroxide\", \"Water\"],\n",
        "             \"answer\": \"Hydrogen Peroxide\"},\n",
        "            {\"question\": \"Photosynthesis occurs in which cell organelle?\",\n",
        "             \"options\": [\"Chloroplast\", \"Nucleus\", \"Ribosome\"], \"answer\": \"Chloroplast\"},\n",
        "        ],\n",
        "    },\n",
        "    \"English\": {\n",
        "        \"Easy\": [\n",
        "            {\"question\": \"Choose the correct synonym for 'Happy'.\",\n",
        "             \"options\": [\"Sad\", \"Joyful\", \"Angry\", \"Tired\"], \"answer\": \"Joyful\"},\n",
        "            {\"question\": \"Which is a verb?\", \"options\": [\"Run\", \"Blue\", \"Table\", \"Quick\"], \"answer\": \"Run\"},\n",
        "        ],\n",
        "        \"Moderate\": [\n",
        "            {\"question\": \"Identify the adjective: 'She has a beautiful dress.'\",\n",
        "             \"options\": [\"She\", \"Beautiful\", \"Dress\", \"Has\"], \"answer\": \"Beautiful\"},\n",
        "            {\"question\": \"Plural of 'Child' is?\", \"options\": [\"Childs\", \"Childes\", \"Children\", \"Child\"], \"answer\": \"Children\"},\n",
        "        ],\n",
        "        \"Hard\": [\n",
        "            {\"question\": \"Select the correct spelling.\", \"options\": [\"Occurence\", \"Occurrance\", \"Occurrence\"], \"answer\": \"Occurrence\"},\n",
        "            {\"question\": \"Choose the correct article: 'He is ___ honest man.'\",\n",
        "             \"options\": [\"a\", \"an\", \"the\"], \"answer\": \"an\"},\n",
        "        ],\n",
        "    },\n",
        "}"
      ],
      "metadata": {
        "id": "BDgPdQfmXba2"
      },
      "execution_count": 3,
      "outputs": []
    },
    {
      "cell_type": "code",
      "source": [
        "index_html = \"\"\"\n",
        "<!DOCTYPE html>\n",
        "<html>\n",
        "<head>\n",
        "    <title>AI Study Pal</title>\n",
        "    <style>\n",
        "        body {\n",
        "            font-family: 'Poppins', sans-serif;\n",
        "            background: linear-gradient(135deg, #a18cd1, #fbc2eb);\n",
        "            color: #333;\n",
        "            text-align: center;\n",
        "            padding: 0;\n",
        "            margin: 0;\n",
        "        }\n",
        "\n",
        "        .container {\n",
        "            margin-top: 100px;\n",
        "        }\n",
        "\n",
        "        h1 {\n",
        "            font-size: 3rem;\n",
        "            color: #fff;\n",
        "            text-shadow: 2px 2px 6px rgba(0,0,0,0.3);\n",
        "            margin-bottom: 20px;\n",
        "        }\n",
        "\n",
        "        p {\n",
        "            color: #f0f0f0;\n",
        "            font-size: 1.2rem;\n",
        "            margin-bottom: 40px;\n",
        "        }\n",
        "\n",
        "        .menu-card {\n",
        "            background: #ffffffaa;\n",
        "            border-radius: 20px;\n",
        "            width: 400px;\n",
        "            margin: auto;\n",
        "            padding: 30px;\n",
        "            box-shadow: 0 4px 20px rgba(0,0,0,0.2);\n",
        "        }\n",
        "\n",
        "        select, input[type=\"number\"] {\n",
        "            width: 90%;\n",
        "            padding: 10px;\n",
        "            margin: 10px 0;\n",
        "            border-radius: 10px;\n",
        "            border: none;\n",
        "            font-size: 1rem;\n",
        "            outline: none;\n",
        "        }\n",
        "\n",
        "        button {\n",
        "            background: linear-gradient(90deg, #667eea, #764ba2);\n",
        "            color: white;\n",
        "            border: none;\n",
        "            padding: 12px 30px;\n",
        "            border-radius: 10px;\n",
        "            font-size: 1rem;\n",
        "            margin-top: 15px;\n",
        "            cursor: pointer;\n",
        "            transition: transform 0.2s;\n",
        "        }\n",
        "\n",
        "        button:hover {\n",
        "            transform: scale(1.05);\n",
        "        }\n",
        "\n",
        "        .section {\n",
        "            margin-top: 30px;\n",
        "        }\n",
        "    </style>\n",
        "</head>\n",
        "<body>\n",
        "    <div class=\"container\">\n",
        "        <h1>📚 AI Study Pal</h1>\n",
        "        <p>Your Personal Study Assistant for Class 10</p>\n",
        "\n",
        "        <div class=\"menu-card\">\n",
        "            <div class=\"section\">\n",
        "                <h2>🗓️ Create Study Plan</h2>\n",
        "                <form action=\"/study_plan\" method=\"post\">\n",
        "                    <label>Subject:</label><br>\n",
        "                    <select name=\"subject\">\n",
        "                        <option>Math</option>\n",
        "                        <option>Science</option>\n",
        "                        <option>English</option>\n",
        "                        <option>Social Studies</option>\n",
        "                        <option>Computer Science</option>\n",
        "                    </select><br>\n",
        "                    <label>Hours to Study:</label><br>\n",
        "                    <input type=\"number\" name=\"hours\" min=\"1\" max=\"8\" required><br>\n",
        "                    <button type=\"submit\">Generate Plan</button>\n",
        "                </form>\n",
        "            </div>\n",
        "\n",
        "            <div class=\"section\">\n",
        "                <h2>🧩 Take a Quiz</h2>\n",
        "                <form action=\"/quiz\" method=\"post\">\n",
        "                    <label>Subject:</label><br>\n",
        "                    <select name=\"subject\">\n",
        "                        <option>Math</option>\n",
        "                        <option>Science</option>\n",
        "                        <option>English</option>\n",
        "                        <option>Social Studies</option>\n",
        "                        <option>Computer Science</option>\n",
        "                    </select><br>\n",
        "                    <label>Difficulty:</label><br>\n",
        "                    <select name=\"difficulty\">\n",
        "                        <option>Easy</option>\n",
        "                        <option>Moderate</option>\n",
        "                        <option>Hard</option>\n",
        "                    </select><br>\n",
        "                    <button type=\"submit\">Start Quiz</button>\n",
        "                </form>\n",
        "            </div>\n",
        "        </div>\n",
        "    </div>\n",
        "</body>\n",
        "</html>\n",
        "\"\"\"\n"
      ],
      "metadata": {
        "id": "roLFNuvaXcqL"
      },
      "execution_count": 4,
      "outputs": []
    },
    {
      "cell_type": "code",
      "source": [
        "quiz_html = \"\"\"\n",
        "<!DOCTYPE html>\n",
        "<html>\n",
        "<head>\n",
        "    <title>{{subject}} Quiz</title>\n",
        "    <style>\n",
        "        body {font-family: 'Poppins', sans-serif; background: linear-gradient(135deg,#89f7fe,#66a6ff);\n",
        "              color:#333; text-align:center; margin:0; padding:40px;}\n",
        "        form {background:white; border-radius:20px; padding:30px; width:60%; margin:auto;\n",
        "              box-shadow:0 4px 20px rgba(0,0,0,0.2);}\n",
        "        h2 {color:#444;}\n",
        "        .question {margin:20px 0; font-size:1.1rem;}\n",
        "        button {background:linear-gradient(90deg,#667eea,#764ba2); color:white;\n",
        "                border:none; padding:12px 25px; border-radius:10px; font-size:1rem; cursor:pointer;}\n",
        "        button:hover {transform:scale(1.05);}\n",
        "    </style>\n",
        "</head>\n",
        "<body>\n",
        "    <h1>{{subject}} Quiz ({{difficulty}})</h1>\n",
        "    <form action=\"/result\" method=\"post\">\n",
        "        {% for i in range(questions|length) %}\n",
        "            <div class=\"question\">\n",
        "                <b>Q{{i+1}}: {{questions[i][\"question\"]}}</b><br>\n",
        "                {% for opt in questions[i][\"options\"] %}\n",
        "                    <input type=\"radio\" name=\"q{{i}}\" value=\"{{opt}}\" required> {{opt}}<br>\n",
        "                {% endfor %}\n",
        "            </div>\n",
        "        {% endfor %}\n",
        "        <button type=\"submit\">Submit Quiz</button>\n",
        "    </form>\n",
        "</body>\n",
        "</html>\n",
        "\"\"\""
      ],
      "metadata": {
        "id": "48gR_JggcLN2"
      },
      "execution_count": 5,
      "outputs": []
    },
    {
      "cell_type": "code",
      "source": [
        "result_html = \"\"\"\n",
        "<!DOCTYPE html>\n",
        "<html>\n",
        "<head>\n",
        "    <title>Quiz Result</title>\n",
        "    <style>\n",
        "        body {font-family: 'Poppins', sans-serif; background: linear-gradient(135deg, #f6d365, #fda085);\n",
        "              color:#333; text-align:center; margin:0; padding:40px;}\n",
        "        .card {background:white; border-radius:20px; padding:30px; width:60%; margin:auto;\n",
        "               box-shadow:0 4px 20px rgba(0,0,0,0.2);}\n",
        "        h2 {color:#444;}\n",
        "        .correct {color:green; font-weight:bold;}\n",
        "        .wrong {color:red; font-weight:bold;}\n",
        "        button {background:linear-gradient(90deg,#667eea,#764ba2); color:white;\n",
        "                border:none; padding:12px 25px; border-radius:10px; font-size:1rem; cursor:pointer;}\n",
        "        button:hover {transform:scale(1.05);}\n",
        "    </style>\n",
        "</head>\n",
        "<body>\n",
        "    <h1>🎯 Quiz Results</h1>\n",
        "    <div class=\"card\">\n",
        "        <h2>You scored {{score}} out of {{total}}</h2>\n",
        "        <hr>\n",
        "        {% for q in feedback %}\n",
        "            <div style=\"margin-bottom:15px;\">\n",
        "                <b>Q{{loop.index}}: {{q[\"question\"]}}</b><br>\n",
        "                Your answer: <span class=\"{{ 'correct' if q['is_correct'] else 'wrong' }}\">{{q[\"your_answer\"]}}</span><br>\n",
        "                Correct answer: <b>{{q[\"correct_answer\"]}}</b>\n",
        "            </div>\n",
        "        {% endfor %}\n",
        "        <form action=\"/\" method=\"get\">\n",
        "            <button type=\"submit\">🏠 Back to Menu</button>\n",
        "        </form>\n",
        "    </div>\n",
        "</body>\n",
        "</html>\n",
        "\"\"\""
      ],
      "metadata": {
        "id": "UZGidq3mcuTq"
      },
      "execution_count": 6,
      "outputs": []
    },
    {
      "cell_type": "code",
      "source": [
        "@app.route(\"/\")\n",
        "def home():\n",
        "    session.clear()\n",
        "    return render_template_string(index_html)\n",
        "\n",
        "@app.route(\"/study_plan\", methods=[\"POST\"])\n",
        "def study_plan():\n",
        "    subject = request.form[\"subject\"]\n",
        "    hours = int(request.form[\"hours\"])\n",
        "    plan = {f\"Hour {i}\": f\"Study {subject} – Focus on key concepts.\" for i in range(1, hours+1)}\n",
        "    return f\"<h1>📚 Study Plan for {subject}</h1>\" + \"<br>\".join([f\"{k}: {v}\" for k,v in plan.items()]) + \"<br><a href='/'>Back</a>\"\n",
        "\n",
        "@app.route(\"/quiz\", methods=[\"POST\"])\n",
        "def quiz():\n",
        "    subject = request.form[\"subject\"]\n",
        "    difficulty = request.form[\"difficulty\"]\n",
        "    session[\"subject\"], session[\"difficulty\"] = subject, difficulty\n",
        "    session[\"questions\"] = quiz_data[subject][difficulty]\n",
        "    return render_template_string(quiz_html, subject=subject, difficulty=difficulty, questions=quiz_data[subject][difficulty])\n",
        "@app.route(\"/result\", methods=[\"POST\"])\n",
        "def result():\n",
        "    subject = session.get(\"subject\")\n",
        "    difficulty = session.get(\"difficulty\")\n",
        "    questions = quiz_data[subject][difficulty]\n",
        "\n",
        "    score = 0\n",
        "    feedback = []\n",
        "\n",
        "    for i, q in enumerate(questions):\n",
        "        user_answer = request.form.get(f\"q{i}\")\n",
        "        correct_answer = q[\"answer\"]\n",
        "        is_correct = (user_answer == correct_answer)\n",
        "        if is_correct:\n",
        "            score += 1\n",
        "        feedback.append({\n",
        "            \"question\": q[\"question\"],\n",
        "            \"your_answer\": user_answer,\n",
        "            \"correct_answer\": correct_answer,\n",
        "            \"is_correct\": is_correct\n",
        "        })\n",
        "\n",
        "    return render_template_string(result_html, score=score, total=len(questions), feedback=feedback)"
      ],
      "metadata": {
        "id": "Jy1y1YONXfEp"
      },
      "execution_count": 7,
      "outputs": []
    },
    {
      "cell_type": "code",
      "source": [
        "from threading import Thread\n",
        "\n",
        "def run_app():\n",
        "    app.run(port=5000)\n",
        "\n",
        "# Start Flask in a background thread\n",
        "Thread(target=run_app).start()\n",
        "\n",
        "# Start ngrok\n",
        "from pyngrok import ngrok\n",
        "ngrok.kill()\n",
        "ngrok.set_auth_token(\"33KYZOAeQjtR0W1xKYiaFQshUjd_5aDE4cg9TB5RWg75djYJ3\")\n",
        "public_url = ngrok.connect(5000)\n",
        "print(\"🌍 Public URL:\", public_url)"
      ],
      "metadata": {
        "colab": {
          "base_uri": "https://localhost:8080/"
        },
        "id": "2uiwSK-iXiGk",
        "outputId": "5fde1be4-7cfc-459f-af84-7ef0b980a839"
      },
      "execution_count": 9,
      "outputs": [
        {
          "output_type": "stream",
          "name": "stdout",
          "text": [
            " * Serving Flask app '__main__'\n",
            " * Debug mode: off\n"
          ]
        },
        {
          "output_type": "stream",
          "name": "stderr",
          "text": [
            "Address already in use\n",
            "Port 5000 is in use by another program. Either identify and stop that program, or start the server with a different port.\n"
          ]
        },
        {
          "output_type": "stream",
          "name": "stdout",
          "text": [
            "🌍 Public URL: NgrokTunnel: \"https://courtney-guardable-maurita.ngrok-free.dev\" -> \"http://localhost:5000\"\n"
          ]
        }
      ]
    }
  ],
  "metadata": {
    "colab": {
      "provenance": []
    },
    "kernelspec": {
      "display_name": "Python 3",
      "name": "python3"
    },
    "language_info": {
      "name": "python"
    }
  },
  "nbformat": 4,
  "nbformat_minor": 0
}